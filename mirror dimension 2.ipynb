{
 "cells": [
  {
   "cell_type": "markdown",
   "id": "005079e3",
   "metadata": {},
   "source": [
    "## 2.send the words to mirror Dimension"
   ]
  },
  {
   "cell_type": "code",
   "execution_count": 1,
   "id": "3cea483d",
   "metadata": {},
   "outputs": [
    {
     "name": "stdout",
     "output_type": "stream",
     "text": [
      "enter the line : Edyoda\n",
      "adoydE\n"
     ]
    }
   ],
   "source": [
    "str1=input(\"enter the line : \")\n",
    "words=str1.split()\n",
    "rev_str1=[]\n",
    "for i in words:\n",
    "    rev_str1.append(i[::-1])\n",
    "    x=''.join(rev_str1)\n",
    "print(x)\n"
   ]
  },
  {
   "cell_type": "markdown",
   "id": "5507dbef",
   "metadata": {},
   "source": [
    "### sample output:\n",
    "             enter the line : Edyoda\n",
    "             adoydE\n",
    "\n"
   ]
  }
 ],
 "metadata": {
  "kernelspec": {
   "display_name": "Python 3 (ipykernel)",
   "language": "python",
   "name": "python3"
  },
  "language_info": {
   "codemirror_mode": {
    "name": "ipython",
    "version": 3
   },
   "file_extension": ".py",
   "mimetype": "text/x-python",
   "name": "python",
   "nbconvert_exporter": "python",
   "pygments_lexer": "ipython3",
   "version": "3.10.1"
  }
 },
 "nbformat": 4,
 "nbformat_minor": 5
}
